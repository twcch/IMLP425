


from sklearn.ensemble import RandomForestClassifier
from sklearn.model_selection import train_test_split,GridSearchCV#自動調參
from sklearn.feature_extraction import DictVectorizer
import pandas as pd

import warnings
warnings.filterwarnings('ignore')
#from keras_tqdm import TQDMCallback

datapath = "data/titanic_data.csv"

def RandomForestTest():
    data = pd.read_csv(datapath)
    X = data[["Pclass","Sex","Age"]]
    Y = data["Survived"]

    X["Age"].fillna(X["Age"].mean(),inplace=True)

    X_train,X_test,y_train,y_test = train_test_split(X,Y,test_size=0.25)

    DV = DictVectorizer(sparse=False)
    X_train = DV.fit_transform(X_train.to_dict(orient="records"))
    X_test = DV.transform(X_test.to_dict(orient="records"))
    
    # 實例化隨機森林分類器
    RF = RandomForestClassifier(verbose=10)#verbose=True #verbose=0, callbacks=[TQDMCallback()]
    
    # 測試超參數優化
    RF_param = {"n_estimators":[10,100],"max_depth":[2,3,4,5]}
    
    print(type(GridSearchCV(RF,param_grid=RF_param,cv=5)))
    GSCV = GridSearchCV(RF,param_grid=RF_param,cv=5)
    GSCV.fit(X_train,y_train)
    
    print("accuracy score",GSCV.score(X_test,y_test))
    print("The best model param :",GSCV.best_params_)




RandomForestTest()



