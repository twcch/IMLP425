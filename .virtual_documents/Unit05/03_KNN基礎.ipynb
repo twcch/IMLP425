


import math

film = [5, 7, 8, 10, 2]             # 玩命關頭特徵值
film_titles = [                     # 比較影片片名
    '復仇者聯盟',
    '決戰中途島',
    '冰雪奇緣',
    '雙子殺手',
]
film_features = [                   # 比較影片特徵值
    [2, 8, 8, 5, 6],
    [5, 6, 9, 2, 5],
    [8, 2, 0, 0, 10],
    [5, 8, 8, 8, 3],
]

# 儲存影片相似度值
dist = [] 

#計算各電影相似程度
for f in film_features:
    distances = 0
    for i in range(len(f)):
        distances += (film[i] - f[i]) ** 2
    dist.append(distances)
    
# 求最小值
min_film = min(dist)

# 最小值的索引
min_index = dist.index(min_film)

print("與玩命關頭最相似的電影 : ", film_titles[min_index])
print("相似度值 : ", dist[min_index])
#印出玩命關頭與其他所有電影的相似程度
for i in range(len(dist)):
    print("影片 : %s, 相似度 : %6.2f"%(film_titles[i], dist[i]))








