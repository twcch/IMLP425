


from sklearn import svm
from sklearn import datasets
from sklearn.model_selection import train_test_split
from sklearn.metrics import accuracy_score





breast_cancer=datasets.load_breast_cancer()


X=breast_cancer.data


y=breast_cancer.target








X_train, X_test, y_train, y_test = train_test_split(X, y,test_size=0.3,random_state=0)





clf = svm.SVC(kernel='rbf', gamma='auto', C=100)
clf.fit(X_train, y_train)





clf.predict(X_test)





print(clf.score(X_train,y_train))
print(clf.score(X_test, y_test))



